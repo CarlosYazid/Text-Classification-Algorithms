{
  "nbformat": 4,
  "nbformat_minor": 0,
  "metadata": {
    "colab": {
      "provenance": [],
      "collapsed_sections": [
        "cAHDLyQQcboh",
        "9SNuWx-ScSTg",
        "YjnAshwzxrKZ",
        "BnLT12Qx5D78"
      ],
      "include_colab_link": true
    },
    "kernelspec": {
      "name": "python3",
      "display_name": "Python 3"
    }
  },
  "cells": [
    {
      "cell_type": "markdown",
      "metadata": {
        "id": "view-in-github",
        "colab_type": "text"
      },
      "source": [
        "<a href=\"https://colab.research.google.com/github/CarlosYazid/Text-Classification-Algorithms/blob/main/notebooks/Clasificando%20palabras%20con%20HMM%20y%20Viterbi.ipynb\" target=\"_parent\"><img src=\"https://colab.research.google.com/assets/colab-badge.svg\" alt=\"Open In Colab\"/></a>"
      ]
    },
    {
      "cell_type": "code",
      "metadata": {
        "id": "858EOFNBPxDs",
        "outputId": "fb73716c-42ab-4211-ba3a-3afde55ddc7e",
        "colab": {
          "base_uri": "https://localhost:8080/"
        }
      },
      "source": [
        "# instalacion de dependencias previas\n",
        "!pip install conllu\n",
        "!git clone https://github.com/UniversalDependencies/UD_Spanish-AnCora.git"
      ],
      "execution_count": 2,
      "outputs": [
        {
          "output_type": "stream",
          "name": "stdout",
          "text": [
            "Collecting conllu\n",
            "  Downloading conllu-6.0.0-py3-none-any.whl.metadata (21 kB)\n",
            "Downloading conllu-6.0.0-py3-none-any.whl (16 kB)\n",
            "Installing collected packages: conllu\n",
            "Successfully installed conllu-6.0.0\n",
            "Cloning into 'UD_Spanish-AnCora'...\n",
            "remote: Enumerating objects: 1547, done.\u001b[K\n",
            "remote: Counting objects: 100% (6/6), done.\u001b[K\n",
            "remote: Compressing objects: 100% (6/6), done.\u001b[K\n",
            "remote: Total 1547 (delta 0), reused 1 (delta 0), pack-reused 1541 (from 3)\u001b[K\n",
            "Receiving objects: 100% (1547/1547), 478.33 MiB | 27.18 MiB/s, done.\n",
            "Resolving deltas: 100% (1122/1122), done.\n"
          ]
        }
      ]
    },
    {
      "cell_type": "markdown",
      "metadata": {
        "id": "cAHDLyQQcboh"
      },
      "source": [
        "# Carga del modelo HMM previamente entrenado"
      ]
    },
    {
      "cell_type": "code",
      "metadata": {
        "id": "9jwZedC6RVJy"
      },
      "source": [
        "# cargamos las probabilidades del modelo HMM\n",
        "import numpy as np\n",
        "transitionProbdict = np.load('transitionHMM.npy', allow_pickle='TRUE').item()\n",
        "emissionProbdict = np.load('emissionHMM.npy', allow_pickle='TRUE').item()"
      ],
      "execution_count": 4,
      "outputs": []
    },
    {
      "cell_type": "code",
      "metadata": {
        "id": "Ezi9gcquUw55",
        "colab": {
          "base_uri": "https://localhost:8080/"
        },
        "outputId": "bacddc1d-cf1e-4b1c-868b-d3ac8d6a1e60"
      },
      "source": [
        "# identificamos las categorias gramaticales 'upos' unicas en el corpus\n",
        "stateSet = set([w.split('|')[1] for w in list(emissionProbdict.keys())])\n",
        "stateSet"
      ],
      "execution_count": 5,
      "outputs": [
        {
          "output_type": "execute_result",
          "data": {
            "text/plain": [
              "{'ADJ',\n",
              " 'ADP',\n",
              " 'ADV',\n",
              " 'AUX',\n",
              " 'CCONJ',\n",
              " 'DET',\n",
              " 'INTJ',\n",
              " 'NOUN',\n",
              " 'NUM',\n",
              " 'PART',\n",
              " 'PRON',\n",
              " 'PROPN',\n",
              " 'PUNCT',\n",
              " 'SCONJ',\n",
              " 'SYM',\n",
              " 'VERB',\n",
              " '_'}"
            ]
          },
          "metadata": {},
          "execution_count": 5
        }
      ]
    },
    {
      "cell_type": "code",
      "metadata": {
        "id": "-aVD0jboWKGh",
        "colab": {
          "base_uri": "https://localhost:8080/"
        },
        "outputId": "8e93cfaf-3deb-49fc-e2eb-0009e00aef78"
      },
      "source": [
        "# enumeramos las categorias con numeros para asignar a\n",
        "# las columnas de la matriz de Viterbi\n",
        "tagStateDict = {}\n",
        "for i, state in enumerate(stateSet):\n",
        "  tagStateDict[state] = i\n",
        "tagStateDict"
      ],
      "execution_count": 6,
      "outputs": [
        {
          "output_type": "execute_result",
          "data": {
            "text/plain": [
              "{'CCONJ': 0,\n",
              " 'AUX': 1,\n",
              " 'SYM': 2,\n",
              " 'NOUN': 3,\n",
              " 'ADV': 4,\n",
              " 'PART': 5,\n",
              " 'PRON': 6,\n",
              " 'ADJ': 7,\n",
              " 'NUM': 8,\n",
              " 'DET': 9,\n",
              " 'SCONJ': 10,\n",
              " '_': 11,\n",
              " 'PUNCT': 12,\n",
              " 'ADP': 13,\n",
              " 'INTJ': 14,\n",
              " 'PROPN': 15,\n",
              " 'VERB': 16}"
            ]
          },
          "metadata": {},
          "execution_count": 6
        }
      ]
    },
    {
      "cell_type": "markdown",
      "metadata": {
        "id": "9SNuWx-ScSTg"
      },
      "source": [
        "# Distribucion inicial de estados latentes"
      ]
    },
    {
      "cell_type": "code",
      "metadata": {
        "id": "put9Dyk1Yl2A",
        "colab": {
          "base_uri": "https://localhost:8080/"
        },
        "outputId": "e8982314-f85a-4995-f15a-78b516e9e823"
      },
      "source": [
        "# Calculamos distribución inicial de estados\n",
        "initTagStateProb = {} # \\rho_i^{(0)}\n",
        "from conllu import parse_incr\n",
        "wordList = []\n",
        "data_file = open(\"UD_Spanish-AnCora/es_ancora-ud-dev.conllu\", \"r\", encoding=\"utf-8\")\n",
        "count = 0 # cuenta la longitud del corpus\n",
        "for tokenlist in parse_incr(data_file):\n",
        "  count += 1\n",
        "  tag = tokenlist[0]['upos']\n",
        "  if tag in initTagStateProb.keys():\n",
        "    initTagStateProb[tag] += 1\n",
        "  else:\n",
        "    initTagStateProb[tag] = 1\n",
        "\n",
        "for key in initTagStateProb.keys():\n",
        "  initTagStateProb[key] /= count\n",
        "\n",
        "initTagStateProb"
      ],
      "execution_count": 7,
      "outputs": [
        {
          "output_type": "execute_result",
          "data": {
            "text/plain": [
              "{'DET': 0.36275695284159615,\n",
              " 'PROPN': 0.1124546553808948,\n",
              " 'ADP': 0.15538089480048367,\n",
              " 'PRON': 0.06348246674727932,\n",
              " 'SCONJ': 0.02418379685610641,\n",
              " 'ADV': 0.056831922611850064,\n",
              " 'PUNCT': 0.08222490931076179,\n",
              " 'VERB': 0.02418379685610641,\n",
              " 'ADJ': 0.010882708585247884,\n",
              " 'CCONJ': 0.032648125755743655,\n",
              " 'NOUN': 0.02720677146311971,\n",
              " '_': 0.009068923821039904,\n",
              " 'INTJ': 0.0006045949214026602,\n",
              " 'AUX': 0.016324062877871828,\n",
              " 'NUM': 0.01995163240628779,\n",
              " 'PART': 0.0018137847642079807}"
            ]
          },
          "metadata": {},
          "execution_count": 7
        }
      ]
    },
    {
      "cell_type": "code",
      "metadata": {
        "id": "J5Rltqj6bbcV",
        "colab": {
          "base_uri": "https://localhost:8080/"
        },
        "outputId": "8e6789cc-bf78-4563-b6c5-479085bf104e"
      },
      "source": [
        "# verificamos que la suma de las probabilidades es 1 (100%)\n",
        "np.array([initTagStateProb[k] for k in initTagStateProb.keys()]).sum()"
      ],
      "execution_count": 8,
      "outputs": [
        {
          "output_type": "execute_result",
          "data": {
            "text/plain": [
              "np.float64(1.0)"
            ]
          },
          "metadata": {},
          "execution_count": 8
        }
      ]
    },
    {
      "cell_type": "markdown",
      "metadata": {
        "id": "YjnAshwzxrKZ"
      },
      "source": [
        "# Construcción del algoritmo de Viterbi\n",
        "\n",
        "\n",
        "\n",
        "\n"
      ]
    },
    {
      "cell_type": "markdown",
      "metadata": {
        "id": "zX-_MnPexnm0"
      },
      "source": [
        "Dada una secuencia de palabras $\\{p_1, p_2, \\dots, p_n \\}$, y un conjunto de categorias gramaticales dadas por la convención `upos`, se considera la matriz de probabilidades de Viterbi así:\n",
        "\n",
        "$$\n",
        "\\begin{array}{c c}\n",
        "\\begin{array}{c c c c}\n",
        "\\text{ADJ} \\\\\n",
        "\\text{ADV}\\\\\n",
        "\\text{PRON} \\\\\n",
        "\\vdots \\\\\n",
        "{}\n",
        "\\end{array}\n",
        "&\n",
        "\\left[\n",
        "\\begin{array}{c c c c}\n",
        "\\nu_1(\\text{ADJ}) & \\nu_2(\\text{ADJ}) & \\dots  & \\nu_n(\\text{ADJ})\\\\\n",
        "\\nu_1(\\text{ADV}) & \\nu_2(\\text{ADV}) & \\dots  & \\nu_n(\\text{ADV})\\\\\n",
        "\\nu_1(\\text{PRON}) & \\nu_2(\\text{PRON}) & \\dots  & \\nu_n(\\text{PRON})\\\\\n",
        "\\vdots & \\vdots & \\dots & \\vdots \\\\ \\hdashline\n",
        "p_1 & p_2 & \\dots & p_n\n",
        "\\end{array}\n",
        "\\right]\n",
        "\\end{array}\n",
        "$$\n",
        "\n",
        "Donde las probabilidades de la primera columna (para una categoria $i$) están dadas por:\n",
        "\n",
        "$$\n",
        "\\nu_1(i) = \\underbrace{\\rho_i^{(0)}}_{\\text{probabilidad inicial}} \\times \\underbrace{P(p_1 \\vert i)}_{\\text{emisión}}\n",
        "$$\n",
        "\n",
        "luego, para la segunda columna (dada una categoria $j$) serán:\n",
        "\n",
        "$$\n",
        "\\nu_2(j) = \\max_i \\{ \\nu_1(i) \\times \\underbrace{P(j \\vert i)}_{\\text{transición}} \\times \\underbrace{P(p_2 \\vert j)}_{\\text{emisión}} \\}\n",
        "$$\n",
        "\n",
        "así, en general las probabilidades para la columna $t$ estarán dadas por:\n",
        "\n",
        "$$\n",
        "\\nu_{t}(j) = \\max_i \\{ \\overbrace{\\nu_{t-1}(i)}^{\\text{estado anterior}} \\times \\underbrace{P(j \\vert i)}_{\\text{transición}} \\times \\underbrace{P(p_t \\vert j)}_{\\text{emisión}} \\}\n",
        "$$"
      ]
    },
    {
      "cell_type": "code",
      "metadata": {
        "id": "rAyO788xPKra",
        "colab": {
          "base_uri": "https://localhost:8080/"
        },
        "outputId": "78574cb3-dd3a-49b1-a4aa-3fce5261b105"
      },
      "source": [
        "import nltk\n",
        "nltk.download('punkt')\n",
        "nltk.download('punkt_tab')\n",
        "from nltk import word_tokenize"
      ],
      "execution_count": 11,
      "outputs": [
        {
          "output_type": "stream",
          "name": "stderr",
          "text": [
            "[nltk_data] Downloading package punkt to /root/nltk_data...\n",
            "[nltk_data]   Package punkt is already up-to-date!\n",
            "[nltk_data] Downloading package punkt_tab to /root/nltk_data...\n",
            "[nltk_data]   Unzipping tokenizers/punkt_tab.zip.\n"
          ]
        }
      ]
    },
    {
      "cell_type": "code",
      "metadata": {
        "id": "9sJhQ35m5ASB",
        "colab": {
          "base_uri": "https://localhost:8080/"
        },
        "outputId": "cf93fb6a-df5e-4dc5-d32a-a752cdf2b0c2"
      },
      "source": [
        "def ViterbiMatrix(secuencia, transitionProbdict=transitionProbdict, emissionProbdict=emissionProbdict,\n",
        "            tagStateDict=tagStateDict, initTagStateProb=initTagStateProb):\n",
        "  seq = word_tokenize(secuencia)\n",
        "  viterbiProb = np.zeros((17, len(seq)))  # upos tiene 17 categorias\n",
        "\n",
        "  # inicialización primera columna\n",
        "  for key in tagStateDict.keys():\n",
        "    tag_row = tagStateDict[key]\n",
        "    word_tag = seq[0].lower()+'|'+key\n",
        "    if word_tag in emissionProbdict.keys():\n",
        "      viterbiProb[tag_row, 0] = initTagStateProb[key]*emissionProbdict[word_tag]\n",
        "\n",
        "  # computo de las siguientes columnas\n",
        "  for col in range(1, len(seq)):\n",
        "    for key in tagStateDict.keys():\n",
        "      tag_row = tagStateDict[key]\n",
        "      word_tag = seq[col].lower()+'|'+key\n",
        "      if word_tag in emissionProbdict.keys():\n",
        "        # miramos estados de la col anterior\n",
        "        possible_probs = []\n",
        "        for key2 in tagStateDict.keys():\n",
        "          tag_row2 = tagStateDict[key2]\n",
        "          tag_prevtag = key+'|'+key2\n",
        "          if tag_prevtag in transitionProbdict.keys():\n",
        "            if viterbiProb[tag_row2, col-1]>0:\n",
        "              possible_probs.append(\n",
        "                  viterbiProb[tag_row2, col-1]*transitionProbdict[tag_prevtag]*emissionProbdict[word_tag])\n",
        "        viterbiProb[tag_row, col] = max(possible_probs)\n",
        "\n",
        "  return viterbiProb\n",
        "\n",
        "matrix = ViterbiMatrix('el mundo es pequeño')\n",
        "matrix"
      ],
      "execution_count": 12,
      "outputs": [
        {
          "output_type": "execute_result",
          "data": {
            "text/plain": [
              "array([[0.00000000e+00, 0.00000000e+00, 6.84724476e-09, 0.00000000e+00],\n",
              "       [0.00000000e+00, 0.00000000e+00, 6.75952795e-07, 0.00000000e+00],\n",
              "       [0.00000000e+00, 0.00000000e+00, 0.00000000e+00, 0.00000000e+00],\n",
              "       [0.00000000e+00, 2.01067137e-04, 3.84542966e-10, 0.00000000e+00],\n",
              "       [0.00000000e+00, 0.00000000e+00, 0.00000000e+00, 0.00000000e+00],\n",
              "       [0.00000000e+00, 0.00000000e+00, 0.00000000e+00, 0.00000000e+00],\n",
              "       [0.00000000e+00, 0.00000000e+00, 0.00000000e+00, 0.00000000e+00],\n",
              "       [0.00000000e+00, 0.00000000e+00, 0.00000000e+00, 1.48896690e-10],\n",
              "       [0.00000000e+00, 0.00000000e+00, 0.00000000e+00, 0.00000000e+00],\n",
              "       [1.24339097e-01, 0.00000000e+00, 0.00000000e+00, 0.00000000e+00],\n",
              "       [0.00000000e+00, 0.00000000e+00, 0.00000000e+00, 0.00000000e+00],\n",
              "       [0.00000000e+00, 0.00000000e+00, 0.00000000e+00, 0.00000000e+00],\n",
              "       [0.00000000e+00, 0.00000000e+00, 0.00000000e+00, 0.00000000e+00],\n",
              "       [0.00000000e+00, 0.00000000e+00, 0.00000000e+00, 0.00000000e+00],\n",
              "       [0.00000000e+00, 0.00000000e+00, 0.00000000e+00, 0.00000000e+00],\n",
              "       [0.00000000e+00, 3.72532918e-05, 0.00000000e+00, 0.00000000e+00],\n",
              "       [0.00000000e+00, 0.00000000e+00, 0.00000000e+00, 0.00000000e+00]])"
            ]
          },
          "metadata": {},
          "execution_count": 12
        }
      ]
    },
    {
      "cell_type": "code",
      "metadata": {
        "id": "J9CYMtNpuoKq",
        "colab": {
          "base_uri": "https://localhost:8080/"
        },
        "outputId": "e31360a4-8d8f-483f-fa22-95c21e5b60f7"
      },
      "source": [
        "def ViterbiTags(secuencia, transitionProbdict=transitionProbdict, emissionProbdict=emissionProbdict,\n",
        "            tagStateDict=tagStateDict, initTagStateProb=initTagStateProb):\n",
        "  seq = word_tokenize(secuencia)\n",
        "  viterbiProb = np.zeros((17, len(seq)))  # upos tiene 17 categorias\n",
        "\n",
        "  # inicialización primera columna\n",
        "  for key in tagStateDict.keys():\n",
        "    tag_row = tagStateDict[key]\n",
        "    word_tag = seq[0].lower()+'|'+key\n",
        "    if word_tag in emissionProbdict.keys():\n",
        "      viterbiProb[tag_row, 0] = initTagStateProb[key]*emissionProbdict[word_tag]\n",
        "\n",
        "  # computo de las siguientes columnas\n",
        "  for col in range(1, len(seq)):\n",
        "    for key in tagStateDict.keys():\n",
        "      tag_row = tagStateDict[key]\n",
        "      word_tag = seq[col].lower()+'|'+key\n",
        "      if word_tag in emissionProbdict.keys():\n",
        "        # miramos estados de la col anterior\n",
        "        possible_probs = []\n",
        "        for key2 in tagStateDict.keys():\n",
        "          tag_row2 = tagStateDict[key2]\n",
        "          tag_prevtag = key+'|'+key2\n",
        "          if tag_prevtag in transitionProbdict.keys():\n",
        "            if viterbiProb[tag_row2, col-1]>0:\n",
        "              possible_probs.append(\n",
        "                  viterbiProb[tag_row2, col-1]*transitionProbdict[tag_prevtag]*emissionProbdict[word_tag])\n",
        "        viterbiProb[tag_row, col] = max(possible_probs)\n",
        "\n",
        "    # contruccion de secuencia de tags\n",
        "    res = []\n",
        "    for i, p in enumerate(seq):\n",
        "      for tag in tagStateDict.keys():\n",
        "        if tagStateDict[tag] == np.argmax(viterbiProb[:, i]):\n",
        "          res.append((p, tag))\n",
        "\n",
        "  return res\n",
        "\n",
        "ViterbiTags('el mundo es muy pequeño')"
      ],
      "execution_count": 13,
      "outputs": [
        {
          "output_type": "execute_result",
          "data": {
            "text/plain": [
              "[('el', 'DET'),\n",
              " ('mundo', 'NOUN'),\n",
              " ('es', 'AUX'),\n",
              " ('muy', 'ADV'),\n",
              " ('pequeño', 'ADJ')]"
            ]
          },
          "metadata": {},
          "execution_count": 13
        }
      ]
    },
    {
      "cell_type": "code",
      "metadata": {
        "id": "FwOk8ABlx13k",
        "colab": {
          "base_uri": "https://localhost:8080/"
        },
        "outputId": "59b77361-7373-4914-ed28-fa7bcd3ce06e"
      },
      "source": [
        "ViterbiTags('estos instrumentos han de rasgar')"
      ],
      "execution_count": 14,
      "outputs": [
        {
          "output_type": "execute_result",
          "data": {
            "text/plain": [
              "[('estos', 'DET'),\n",
              " ('instrumentos', 'NOUN'),\n",
              " ('han', 'AUX'),\n",
              " ('de', 'ADP'),\n",
              " ('rasgar', 'VERB')]"
            ]
          },
          "metadata": {},
          "execution_count": 14
        }
      ]
    },
    {
      "cell_type": "markdown",
      "metadata": {
        "id": "BnLT12Qx5D78"
      },
      "source": [
        "# Entrenamiento directo de HMM con NLTK\n",
        "\n",
        "* clase en python (NLTK) de HMM: https://www.nltk.org/_modules/nltk/tag/hmm.html"
      ]
    },
    {
      "cell_type": "code",
      "metadata": {
        "id": "NVyCuawh5Eqj",
        "colab": {
          "base_uri": "https://localhost:8080/"
        },
        "outputId": "1f718576-2e89-4e29-9946-c9ed3302329b"
      },
      "source": [
        "#@title ejemplo con el Corpus Treebank en ingles\n",
        "import nltk\n",
        "nltk.download('treebank')\n",
        "from nltk.corpus import treebank\n",
        "train_data = treebank.tagged_sents()[:3900]"
      ],
      "execution_count": 15,
      "outputs": [
        {
          "output_type": "stream",
          "name": "stderr",
          "text": [
            "[nltk_data] Downloading package treebank to /root/nltk_data...\n",
            "[nltk_data]   Unzipping corpora/treebank.zip.\n"
          ]
        }
      ]
    },
    {
      "cell_type": "code",
      "metadata": {
        "id": "C_DomEIM5Hif",
        "colab": {
          "base_uri": "https://localhost:8080/"
        },
        "outputId": "c1e5a41c-f7c1-48f2-8e5c-35eb8165550f"
      },
      "source": [
        "#@title estructura de la data de entrenamiento\n",
        "train_data"
      ],
      "execution_count": 16,
      "outputs": [
        {
          "output_type": "execute_result",
          "data": {
            "text/plain": [
              "[[('Pierre', 'NNP'), ('Vinken', 'NNP'), (',', ','), ('61', 'CD'), ('years', 'NNS'), ('old', 'JJ'), (',', ','), ('will', 'MD'), ('join', 'VB'), ('the', 'DT'), ('board', 'NN'), ('as', 'IN'), ('a', 'DT'), ('nonexecutive', 'JJ'), ('director', 'NN'), ('Nov.', 'NNP'), ('29', 'CD'), ('.', '.')], [('Mr.', 'NNP'), ('Vinken', 'NNP'), ('is', 'VBZ'), ('chairman', 'NN'), ('of', 'IN'), ('Elsevier', 'NNP'), ('N.V.', 'NNP'), (',', ','), ('the', 'DT'), ('Dutch', 'NNP'), ('publishing', 'VBG'), ('group', 'NN'), ('.', '.')], ...]"
            ]
          },
          "metadata": {},
          "execution_count": 16
        }
      ]
    },
    {
      "cell_type": "code",
      "metadata": {
        "id": "WtknnYIi5KdG",
        "colab": {
          "base_uri": "https://localhost:8080/"
        },
        "outputId": "6d66f592-e4a2-479e-b74e-ec00e7846212"
      },
      "source": [
        "#@title HMM pre-construido en NLTK\n",
        "from nltk.tag import hmm\n",
        "tagger = hmm.HiddenMarkovModelTrainer().train_supervised(train_data)\n",
        "tagger"
      ],
      "execution_count": 17,
      "outputs": [
        {
          "output_type": "execute_result",
          "data": {
            "text/plain": [
              "<HiddenMarkovModelTagger 46 states and 12385 output symbols>"
            ]
          },
          "metadata": {},
          "execution_count": 17
        }
      ]
    },
    {
      "cell_type": "code",
      "metadata": {
        "id": "tLG-QzKc5OM4",
        "colab": {
          "base_uri": "https://localhost:8080/"
        },
        "outputId": "f1bdca2b-7fc8-41f1-895b-5fa2d4dbdc39"
      },
      "source": [
        "tagger.tag(\"Pierre Vinken will get old\".split())"
      ],
      "execution_count": 18,
      "outputs": [
        {
          "output_type": "stream",
          "name": "stderr",
          "text": [
            "/usr/local/lib/python3.12/dist-packages/nltk/tag/hmm.py:333: RuntimeWarning: overflow encountered in cast\n",
            "  X[i, j] = self._transitions[si].logprob(self._states[j])\n",
            "/usr/local/lib/python3.12/dist-packages/nltk/tag/hmm.py:335: RuntimeWarning: overflow encountered in cast\n",
            "  O[i, k] = self._output_logprob(si, self._symbols[k])\n",
            "/usr/local/lib/python3.12/dist-packages/nltk/tag/hmm.py:331: RuntimeWarning: overflow encountered in cast\n",
            "  P[i] = self._priors.logprob(si)\n"
          ]
        },
        {
          "output_type": "execute_result",
          "data": {
            "text/plain": [
              "[('Pierre', 'NNP'),\n",
              " ('Vinken', 'NNP'),\n",
              " ('will', 'MD'),\n",
              " ('get', 'VB'),\n",
              " ('old', 'JJ')]"
            ]
          },
          "metadata": {},
          "execution_count": 18
        }
      ]
    },
    {
      "cell_type": "code",
      "metadata": {
        "id": "aGLYRUBb5Wni",
        "colab": {
          "base_uri": "https://localhost:8080/"
        },
        "outputId": "1ba0afed-2db3-417d-e5eb-6b41f495a74a"
      },
      "source": [
        "#@title training accuracy\n",
        "tagger.accuracy(treebank.tagged_sents()[:3900])"
      ],
      "execution_count": 19,
      "outputs": [
        {
          "output_type": "execute_result",
          "data": {
            "text/plain": [
              "0.9815403947224078"
            ]
          },
          "metadata": {},
          "execution_count": 19
        }
      ]
    },
    {
      "cell_type": "code",
      "source": [
        "# @title test accuracy\n",
        "tagger.accuracy(treebank.tagged_sents()[3900:])"
      ],
      "metadata": {
        "id": "hEVW5yEWDs8I",
        "outputId": "4714d737-6feb-4671-fdc6-027898c8ada9",
        "colab": {
          "base_uri": "https://localhost:8080/"
        }
      },
      "execution_count": 20,
      "outputs": [
        {
          "output_type": "stream",
          "name": "stderr",
          "text": [
            "/usr/local/lib/python3.12/dist-packages/nltk/tag/hmm.py:363: RuntimeWarning: overflow encountered in cast\n",
            "  O[i, k] = self._output_logprob(si, self._symbols[k])\n"
          ]
        },
        {
          "output_type": "execute_result",
          "data": {
            "text/plain": [
              "0.3548387096774194"
            ]
          },
          "metadata": {},
          "execution_count": 20
        }
      ]
    },
    {
      "cell_type": "markdown",
      "metadata": {
        "id": "FN-Bgfk-pI0m"
      },
      "source": [
        "## Ejercicio de práctica\n",
        "\n",
        "**Objetivo:** Entrena un HMM usando la clase `hmm.HiddenMarkovModelTrainer()` sobre el dataset `UD_Spanish_AnCora`."
      ]
    },
    {
      "cell_type": "markdown",
      "metadata": {
        "id": "ZrtTL4ihxfiq"
      },
      "source": [
        "1. **Pre-procesamiento:** En el ejemplo anterior usamos el dataset en ingles `treebank`, el cual viene con una estructura diferente a la de `AnCora`, en esta parte escribe código para transformar la estructura de `AnCora` de manera que quede igual al `treebank` que usamos así:\n",
        "\n",
        "$$\\left[ \\left[ (\\text{'El'}, \\text{'DET'}), (\\dots), \\dots\\right], \\left[\\dots \\right] \\right]$$"
      ]
    },
    {
      "cell_type": "code",
      "metadata": {
        "id": "1X8qg5Fc5ahS",
        "outputId": "bd447dec-18a6-4f58-d1d5-108d59673c38",
        "colab": {
          "base_uri": "https://localhost:8080/"
        }
      },
      "source": [
        "# desarrolla tu código aquí\n",
        "from conllu import parse_incr\n",
        "data_file = open(\"UD_Spanish-AnCora/es_ancora-ud-dev.conllu\", \"r\", encoding=\"utf-8\")\n",
        "\n",
        "ancora_tagged = [list(map(lambda token: (token['form'], token['upos']), tokenlist)) for tokenlist in parse_incr(data_file)]\n",
        "ancora_tagged[0]"
      ],
      "execution_count": 25,
      "outputs": [
        {
          "output_type": "execute_result",
          "data": {
            "text/plain": [
              "[('El', 'DET'),\n",
              " ('gobernante', 'NOUN'),\n",
              " (',', 'PUNCT'),\n",
              " ('con', 'ADP'),\n",
              " ('ganada', 'ADJ'),\n",
              " ('fama', 'NOUN'),\n",
              " ('desde', 'ADP'),\n",
              " ('que', 'SCONJ'),\n",
              " ('llegó', 'VERB'),\n",
              " ('hace', 'VERB'),\n",
              " ('16', 'NUM'),\n",
              " ('meses', 'NOUN'),\n",
              " ('al', '_'),\n",
              " ('a', 'ADP'),\n",
              " ('el', 'DET'),\n",
              " ('poder', 'NOUN'),\n",
              " ('de', 'ADP'),\n",
              " ('explotar', 'VERB'),\n",
              " ('al', '_'),\n",
              " ('a', 'ADP'),\n",
              " ('el', 'DET'),\n",
              " ('máximo', 'NOUN'),\n",
              " ('su', 'DET'),\n",
              " ('oratoria', 'NOUN'),\n",
              " ('y', 'CCONJ'),\n",
              " ('acusado', 'ADJ'),\n",
              " ('por', 'ADP'),\n",
              " ('sus', 'DET'),\n",
              " ('detractores', 'NOUN'),\n",
              " ('de', 'ADP'),\n",
              " ('incontinencia', 'NOUN'),\n",
              " ('verbal', 'ADJ'),\n",
              " (',', 'PUNCT'),\n",
              " ('enmudeció', 'VERB'),\n",
              " ('desde', 'ADP'),\n",
              " ('el', 'DET'),\n",
              " ('momento', 'NOUN'),\n",
              " ('en', 'ADP'),\n",
              " ('el', 'DET'),\n",
              " ('que', 'PRON'),\n",
              " ('el', 'DET'),\n",
              " ('Tribunal', 'PROPN'),\n",
              " ('Supremo', 'PROPN'),\n",
              " ('de', 'ADP'),\n",
              " ('Justicia', 'PROPN'),\n",
              " ('(', 'PUNCT'),\n",
              " ('TSJ', 'PROPN'),\n",
              " (')', 'PUNCT'),\n",
              " ('decidió', 'VERB'),\n",
              " ('suspender', 'VERB'),\n",
              " ('temporalmente', 'ADV'),\n",
              " ('los', 'DET'),\n",
              " ('comicios', 'NOUN'),\n",
              " ('múltiples', 'ADJ'),\n",
              " ('ante', 'ADP'),\n",
              " ('la', 'DET'),\n",
              " ('imposibilidad', 'NOUN'),\n",
              " ('\"', 'PUNCT'),\n",
              " ('técnica', 'ADJ'),\n",
              " ('\"', 'PUNCT'),\n",
              " ('de', 'ADP'),\n",
              " ('celebrarlos', '_'),\n",
              " ('celebrar', 'VERB'),\n",
              " ('los', 'PRON'),\n",
              " ('el', 'DET'),\n",
              " ('28', 'NUM'),\n",
              " ('de', 'ADP'),\n",
              " ('mayo', 'NOUN'),\n",
              " ('.', 'PUNCT')]"
            ]
          },
          "metadata": {},
          "execution_count": 25
        }
      ]
    },
    {
      "cell_type": "markdown",
      "metadata": {
        "id": "W_OYeCVQrZAK"
      },
      "source": [
        "2. **Entrenamiento:** Una vez que el dataset esta con la estructura correcta, utiliza la clase `hmm.HiddenMarkovModelTrainer()` para entrenar con el $80 \\%$ del dataset como conjunto de `entrenamiento` y $20 \\%$ para el conjunto de `test`.\n",
        "\n",
        "**Ayuda:** Para la separacion entre conjuntos de entrenamiento y test, puedes usar la funcion de Scikit Learn:\n",
        "\n",
        "https://scikit-learn.org/stable/modules/generated/sklearn.model_selection.train_test_split.html\n",
        "\n",
        "En este punto el curso de Machine Learning con Scikit Learn es un buen complemento para entender mejor las funcionalidades de Scikit Learn: https://platzi.com/cursos/scikitlearn-ml/"
      ]
    },
    {
      "cell_type": "code",
      "metadata": {
        "id": "DZpAIB87sTqL",
        "outputId": "5caf6386-3f26-40a9-df72-66a4181a7758",
        "colab": {
          "base_uri": "https://localhost:8080/"
        }
      },
      "source": [
        "# desarrolla tu código aquí\n",
        "from sklearn.model_selection import train_test_split\n",
        "ancora_train, ancora_test = train_test_split(ancora_tagged, test_size=0.2, random_state=42)\n",
        "tagger = hmm.HiddenMarkovModelTrainer().train_supervised(ancora_train)\n",
        "tagger"
      ],
      "execution_count": 26,
      "outputs": [
        {
          "output_type": "execute_result",
          "data": {
            "text/plain": [
              "<HiddenMarkovModelTagger 17 states and 9131 output symbols>"
            ]
          },
          "metadata": {},
          "execution_count": 26
        }
      ]
    },
    {
      "cell_type": "markdown",
      "metadata": {
        "id": "LLS54wqsu9OK"
      },
      "source": [
        "3. **Validación del modelo:** Un vez entrenado el `tagger`, calcula el rendimiento del modelo (usando `tagger.evaluate()`) para los conjuntos de `entrenamiento` y `test`.\n",
        "\n"
      ]
    },
    {
      "cell_type": "code",
      "metadata": {
        "id": "JEwZIG8Du98v",
        "outputId": "ba67f86c-4da1-4a34-d1b7-54076936ebbd",
        "colab": {
          "base_uri": "https://localhost:8080/"
        }
      },
      "source": [
        "#desarrolla tu código aquí\n",
        "tagger.accuracy(ancora_test)"
      ],
      "execution_count": 27,
      "outputs": [
        {
          "output_type": "stream",
          "name": "stderr",
          "text": [
            "/usr/local/lib/python3.12/dist-packages/nltk/tag/hmm.py:333: RuntimeWarning: overflow encountered in cast\n",
            "  X[i, j] = self._transitions[si].logprob(self._states[j])\n",
            "/usr/local/lib/python3.12/dist-packages/nltk/tag/hmm.py:335: RuntimeWarning: overflow encountered in cast\n",
            "  O[i, k] = self._output_logprob(si, self._symbols[k])\n",
            "/usr/local/lib/python3.12/dist-packages/nltk/tag/hmm.py:331: RuntimeWarning: overflow encountered in cast\n",
            "  P[i] = self._priors.logprob(si)\n",
            "/usr/local/lib/python3.12/dist-packages/nltk/tag/hmm.py:363: RuntimeWarning: overflow encountered in cast\n",
            "  O[i, k] = self._output_logprob(si, self._symbols[k])\n"
          ]
        },
        {
          "output_type": "execute_result",
          "data": {
            "text/plain": [
              "0.27693718477762497"
            ]
          },
          "metadata": {},
          "execution_count": 27
        }
      ]
    }
  ]
}